{
 "cells": [
  {
   "cell_type": "code",
   "execution_count": null,
   "metadata": {},
   "outputs": [],
   "source": [
    "import jax\n",
    "from jax import numpy as jnp"
   ]
  },
  {
   "cell_type": "code",
   "execution_count": null,
   "metadata": {},
   "outputs": [],
   "source": [
    "def taylor_extension(n_terms=30, loc=0.):\n",
    "    def decorator(function):\n",
    "        def wrapper(input):\n",
    "            # Ensure input is a square matrix\n",
    "            assert input.shape[0] == input.shape[1], \"Input must be a square matrix\"\n",
    "\n",
    "            x_loc = loc\n",
    "            output = jnp.zeros_like(input)\n",
    "\n",
    "            for term in range(n_terms):\n",
    "\n",
    "                if term == 0:\n",
    "                    grad_fn = function\n",
    "                    factorial = jnp.ones(1)\n",
    "                    mat_pow = jnp.eye(input.shape[0])\n",
    "\n",
    "                else:\n",
    "                    grad_fn = jax.grad(grad_fn) \n",
    "                    factorial = factorial*term\n",
    "                    mat_pow @= input\n",
    "\n",
    "                output += grad_fn(x_loc)/factorial * mat_pow\n",
    "\n",
    "            return output\n",
    "\n",
    "        return wrapper\n",
    "    return decorator"
   ]
  },
  {
   "cell_type": "code",
   "execution_count": null,
   "metadata": {},
   "outputs": [],
   "source": [
    "import jax\n",
    "import jax.numpy as jnp\n",
    "\n",
    "def taylor_extension(n_terms=30, loc=0.0):\n",
    "    # @jax.jit\n",
    "    def compute_taylor(input, function):\n",
    "        assert input.shape[0] == input.shape[1], \"Input must be a square matrix\"\n",
    "\n",
    "        x_loc = loc\n",
    "        factorial = 1.0\n",
    "        mat_pow = jnp.eye(input.shape[0])\n",
    "        output = jnp.zeros_like(input)\n",
    "\n",
    "        # Precompute gradients up to n_terms\n",
    "        grad_fns = [function]\n",
    "        for _ in range(1, n_terms):\n",
    "            grad_fns.append(jax.grad(grad_fns[-1]))\n",
    "\n",
    "        for term, grad_fn in enumerate(grad_fns):\n",
    "            if term > 0:\n",
    "                factorial *= term\n",
    "                mat_pow = mat_pow @ input\n",
    "\n",
    "            output += grad_fn(x_loc) / factorial * mat_pow\n",
    "\n",
    "        return output\n",
    "\n",
    "    def decorator(function):\n",
    "        def wrapper(input):\n",
    "            return compute_taylor(input, function)\n",
    "        return wrapper\n",
    "\n",
    "    return decorator"
   ]
  },
  {
   "cell_type": "code",
   "execution_count": null,
   "metadata": {},
   "outputs": [],
   "source": [
    "@taylor_extension(50)\n",
    "def f(x):\n",
    "    return jnp.sinc(x)"
   ]
  },
  {
   "cell_type": "code",
   "execution_count": null,
   "metadata": {},
   "outputs": [],
   "source": [
    "@taylor_extension(n_terms=50, loc=0.0)\n",
    "def example_function(x):\n",
    "    return jnp.sin(x)\n",
    "\n",
    "input_matrix = jnp.eye(3)\n",
    "result = example_function(input_matrix)\n",
    "print(result)"
   ]
  },
  {
   "cell_type": "code",
   "execution_count": null,
   "metadata": {},
   "outputs": [],
   "source": [
    "input_matrix = jnp.eye(3)\n",
    "\n",
    "f(input_matrix)"
   ]
  }
 ],
 "metadata": {
  "kernelspec": {
   "display_name": "modelling",
   "language": "python",
   "name": "python3"
  },
  "language_info": {
   "codemirror_mode": {
    "name": "ipython",
    "version": 3
   },
   "file_extension": ".py",
   "mimetype": "text/x-python",
   "name": "python",
   "nbconvert_exporter": "python",
   "pygments_lexer": "ipython3",
   "version": "3.12.3"
  }
 },
 "nbformat": 4,
 "nbformat_minor": 2
}
