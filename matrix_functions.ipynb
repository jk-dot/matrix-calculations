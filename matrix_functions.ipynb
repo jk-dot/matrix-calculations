{
 "cells": [
  {
   "cell_type": "code",
   "execution_count": 2,
   "metadata": {},
   "outputs": [],
   "source": [
    "import torch\n",
    "import matplotlib.pyplot as plt"
   ]
  },
  {
   "cell_type": "code",
   "execution_count": 3,
   "metadata": {},
   "outputs": [],
   "source": [
    "eigs = torch.tensor((0, 1, 1, 2, 3, 4, 4, 4, 4))\n",
    "\n",
    "J = torch.diag(eigs) + torch.diag(torch.tensor([0, 1, 0, 0, 0, 1, 1, 1]), diagonal=1)\n",
    "J = J.float()\n",
    "X = torch.rand(J.shape)\n",
    "\n",
    "A = X @ J @ X.inverse()"
   ]
  },
  {
   "cell_type": "markdown",
   "metadata": {},
   "source": [
    "---"
   ]
  },
  {
   "cell_type": "code",
   "execution_count": 4,
   "metadata": {},
   "outputs": [],
   "source": [
    "from functools import reduce\n",
    "from torch import func\n",
    "from math import factorial\n",
    "\n",
    "def jordan_form_func(function):\n",
    "    def split_jordan_blocks(matrix):\n",
    "        \"\"\"\n",
    "        Split a Jordan normal form matrix into its individual Jordan blocks.\n",
    "\n",
    "        Parameters:\n",
    "            matrix (torch.Tensor): The input square Jordan normal form matrix.\n",
    "\n",
    "        Returns:\n",
    "            list: A list of tensors, each representing an individual Jordan block.\n",
    "        \"\"\"\n",
    "        n = matrix.size(0)\n",
    "        blocks = []\n",
    "        start_idx = 0\n",
    "\n",
    "        for i in range(n - 1):\n",
    "            if matrix[i, i + 1] != 1:  # End of a block\n",
    "                # Extract the block\n",
    "                blocks.append(matrix[start_idx:i + 1, start_idx:i + 1])\n",
    "                start_idx = i + 1\n",
    "\n",
    "        # Add the last block\n",
    "        if start_idx < n:\n",
    "            blocks.append(matrix[start_idx:n, start_idx:n])\n",
    "\n",
    "        return blocks\n",
    "\n",
    "    def grad(f, n=0):\n",
    "        return func.vmap(reduce(lambda f, _: torch.func.grad(f), range(n), f))\n",
    "\n",
    "    def wrapper(input):\n",
    "\n",
    "        input = input.reshape((1, 1)) if not input.dim() else input\n",
    "        assert input.size(0) == input.size(1), \"Input must be a square matrix\"\n",
    "\n",
    "        eigs = input.diagonal()\n",
    "\n",
    "        output = function(eigs).diag()\n",
    "\n",
    "        block_start_idx = 0\n",
    "        for block in split_jordan_blocks(input):\n",
    "            block_size = len(block)\n",
    "            eig = block.diagonal()\n",
    "            block_slice = slice(block_start_idx, block_start_idx+block_size)\n",
    "\n",
    "            for i in range(1, block_size):\n",
    "                output[block_slice, block_slice] += grad(function, i)(eig[:-i]).diag(diagonal=i) / factorial(i)\n",
    "\n",
    "            block_start_idx += block_size\n",
    "\n",
    "        return output\n",
    "    \n",
    "    return wrapper"
   ]
  },
  {
   "cell_type": "code",
   "execution_count": 5,
   "metadata": {},
   "outputs": [],
   "source": [
    "@jordan_form_func\n",
    "def f(x):\n",
    "    return torch.sin(x)*torch.cos(x)"
   ]
  },
  {
   "cell_type": "code",
   "execution_count": 6,
   "metadata": {},
   "outputs": [
    {
     "data": {
      "text/plain": [
       "tensor([[ 0.00,  0.00,  0.00,  0.00,  0.00,  0.00,  0.00,  0.00,  0.00],\n",
       "        [ 0.00,  0.45, -0.42,  0.00,  0.00,  0.00,  0.00,  0.00,  0.00],\n",
       "        [ 0.00,  0.00,  0.45,  0.00,  0.00,  0.00,  0.00,  0.00,  0.00],\n",
       "        [ 0.00,  0.00,  0.00, -0.38,  0.00,  0.00,  0.00,  0.00,  0.00],\n",
       "        [ 0.00,  0.00,  0.00,  0.00, -0.14,  0.00,  0.00,  0.00,  0.00],\n",
       "        [ 0.00,  0.00,  0.00,  0.00,  0.00,  0.49, -0.15, -0.99,  0.10],\n",
       "        [ 0.00,  0.00,  0.00,  0.00,  0.00,  0.00,  0.49, -0.15, -0.99],\n",
       "        [ 0.00,  0.00,  0.00,  0.00,  0.00,  0.00,  0.00,  0.49, -0.15],\n",
       "        [ 0.00,  0.00,  0.00,  0.00,  0.00,  0.00,  0.00,  0.00,  0.49]])"
      ]
     },
     "execution_count": 6,
     "metadata": {},
     "output_type": "execute_result"
    }
   ],
   "source": [
    "torch.set_printoptions(precision=2)\n",
    "\n",
    "f(J)"
   ]
  }
 ],
 "metadata": {
  "kernelspec": {
   "display_name": "modelling",
   "language": "python",
   "name": "python3"
  },
  "language_info": {
   "codemirror_mode": {
    "name": "ipython",
    "version": 3
   },
   "file_extension": ".py",
   "mimetype": "text/x-python",
   "name": "python",
   "nbconvert_exporter": "python",
   "pygments_lexer": "ipython3",
   "version": "3.12.3"
  }
 },
 "nbformat": 4,
 "nbformat_minor": 2
}
