{
 "cells": [
  {
   "cell_type": "code",
   "execution_count": 1,
   "metadata": {},
   "outputs": [],
   "source": [
    "import torch\n",
    "import matplotlib.pyplot as plt"
   ]
  },
  {
   "cell_type": "code",
   "execution_count": 2,
   "metadata": {},
   "outputs": [],
   "source": [
    "eigs = torch.tensor((0, 1, 1, 2, 3, 4, 4, 4, 4))\n",
    "\n",
    "J = torch.diag(eigs) + torch.diag(torch.tensor([0, 1, 0, 0, 0, 1, 1, 1]), diagonal=1)\n",
    "J = J.float()\n",
    "X = torch.rand(J.shape)\n",
    "\n",
    "A = X @ J @ X.inverse()"
   ]
  },
  {
   "cell_type": "code",
   "execution_count": 3,
   "metadata": {},
   "outputs": [],
   "source": [
    "A = torch.tensor([\n",
    "    [10, 1, 0],\n",
    "    [0, -10, 1],\n",
    "    [0, 0, 10]\n",
    "], dtype=torch.float64)"
   ]
  },
  {
   "cell_type": "code",
   "execution_count": 4,
   "metadata": {},
   "outputs": [],
   "source": [
    "i = torch.complex(torch.tensor(0., dtype=torch.float64), torch.tensor(1., dtype=torch.float64))"
   ]
  },
  {
   "cell_type": "code",
   "execution_count": 5,
   "metadata": {},
   "outputs": [
    {
     "data": {
      "text/plain": [
       "tensor([[-0.8391,  0.0000,  0.0272],\n",
       "        [ 0.0000, -0.8391,  0.0000],\n",
       "        [ 0.0000,  0.0000, -0.8391]], dtype=torch.float64)"
      ]
     },
     "execution_count": 5,
     "metadata": {},
     "output_type": "execute_result"
    }
   ],
   "source": [
    "torch.linalg.matrix_exp(i*A).real"
   ]
  },
  {
   "cell_type": "markdown",
   "metadata": {},
   "source": [
    "---"
   ]
  },
  {
   "cell_type": "markdown",
   "metadata": {},
   "source": [
    "## Special formula for Jordan block form"
   ]
  },
  {
   "cell_type": "code",
   "execution_count": 6,
   "metadata": {},
   "outputs": [],
   "source": [
    "from functools import reduce\n",
    "from torch import func\n",
    "from math import factorial\n",
    "\n",
    "def jordan_form_func(function):\n",
    "    def split_jordan_blocks(matrix):\n",
    "        \"\"\"\n",
    "        Split a Jordan normal form matrix into its individual Jordan blocks.\n",
    "\n",
    "        Parameters:\n",
    "            matrix (torch.Tensor): The input square Jordan normal form matrix.\n",
    "\n",
    "        Returns:\n",
    "            list: A list of tensors, each representing an individual Jordan block.\n",
    "        \"\"\"\n",
    "        n = matrix.size(0)\n",
    "        blocks = []\n",
    "        start_idx = 0\n",
    "\n",
    "        for i in range(n - 1):\n",
    "            if matrix[i, i + 1] != 1:  # End of a block\n",
    "                # Extract the block\n",
    "                blocks.append(matrix[start_idx:i + 1, start_idx:i + 1])\n",
    "                start_idx = i + 1\n",
    "\n",
    "        # Add the last block\n",
    "        if start_idx < n:\n",
    "            blocks.append(matrix[start_idx:n, start_idx:n])\n",
    "\n",
    "        return blocks\n",
    "\n",
    "    def grad(f, n=0):\n",
    "        return func.vmap(reduce(lambda f, _: torch.func.grad(f), range(n), f))\n",
    "\n",
    "    def wrapper(input):\n",
    "\n",
    "        input = input.reshape((1, 1)) if not input.dim() else input\n",
    "        assert input.size(0) == input.size(1), \"Input must be a square matrix\"\n",
    "\n",
    "        eigs = input.diagonal()\n",
    "\n",
    "        output = function(eigs).diag()\n",
    "\n",
    "        block_start_idx = 0\n",
    "        for block in split_jordan_blocks(input):\n",
    "            block_size = len(block)\n",
    "            eig = block.diagonal()\n",
    "            block_slice = slice(block_start_idx, block_start_idx+block_size)\n",
    "\n",
    "            for i in range(1, block_size):\n",
    "                output[block_slice, block_slice] += grad(function, i)(eig[:-i]).diag(diagonal=i) / factorial(i)\n",
    "\n",
    "            block_start_idx += block_size\n",
    "\n",
    "        return output\n",
    "\n",
    "    return wrapper"
   ]
  },
  {
   "cell_type": "code",
   "execution_count": 7,
   "metadata": {},
   "outputs": [
    {
     "data": {
      "text/plain": [
       "tensor([[ 0.0000,  0.0000,  0.0000,  0.0000,  0.0000,  0.0000,  0.0000,  0.0000,\n",
       "          0.0000],\n",
       "        [ 0.0000,  0.4546, -0.4161,  0.0000,  0.0000,  0.0000,  0.0000,  0.0000,\n",
       "          0.0000],\n",
       "        [ 0.0000,  0.0000,  0.4546,  0.0000,  0.0000,  0.0000,  0.0000,  0.0000,\n",
       "          0.0000],\n",
       "        [ 0.0000,  0.0000,  0.0000, -0.3784,  0.0000,  0.0000,  0.0000,  0.0000,\n",
       "          0.0000],\n",
       "        [ 0.0000,  0.0000,  0.0000,  0.0000, -0.1397,  0.0000,  0.0000,  0.0000,\n",
       "          0.0000],\n",
       "        [ 0.0000,  0.0000,  0.0000,  0.0000,  0.0000,  0.4947, -0.1455, -0.9894,\n",
       "          0.0970],\n",
       "        [ 0.0000,  0.0000,  0.0000,  0.0000,  0.0000,  0.0000,  0.4947, -0.1455,\n",
       "         -0.9894],\n",
       "        [ 0.0000,  0.0000,  0.0000,  0.0000,  0.0000,  0.0000,  0.0000,  0.4947,\n",
       "         -0.1455],\n",
       "        [ 0.0000,  0.0000,  0.0000,  0.0000,  0.0000,  0.0000,  0.0000,  0.0000,\n",
       "          0.4947]])"
      ]
     },
     "execution_count": 7,
     "metadata": {},
     "output_type": "execute_result"
    }
   ],
   "source": [
    "@jordan_form_func\n",
    "def f(x):\n",
    "    return torch.sin(x)*torch.cos(x)\n",
    "\n",
    "\n",
    "f(J)"
   ]
  },
  {
   "cell_type": "markdown",
   "metadata": {},
   "source": [
    "## Taylor expansion for general matrix"
   ]
  },
  {
   "cell_type": "code",
   "execution_count": 8,
   "metadata": {},
   "outputs": [],
   "source": [
    "import functools\n",
    "\n",
    "\n",
    "def taylor_extension(n_terms = 50, loc = 0):\n",
    "    def compute_taylor(input, function):\n",
    "\n",
    "        input = input.reshape((1, 1)) if not input.dim() else input\n",
    "        assert input.size(0) == input.size(1), \"Input must be a square matrix\"\n",
    "\n",
    "        x_loc = loc * torch.ones((1, 1), requires_grad=True).type(torch.float64)\n",
    "\n",
    "        factorial = torch.tensor([1.]).type_as(input)\n",
    "        grad_fn = function(x_loc)\n",
    "        matrix_power = torch.eye(input.size(0)).type_as(input)\n",
    "\n",
    "        output = grad_fn / factorial * matrix_power\n",
    "\n",
    "        for term in range(1, n_terms):\n",
    "\n",
    "            grad_fn = torch.autograd.grad(grad_fn.sum().real, x_loc, create_graph=True)[0]\n",
    "            factorial *= term\n",
    "            matrix_power @= input\n",
    "\n",
    "            output += grad_fn / factorial * matrix_power\n",
    "\n",
    "        return output\n",
    "\n",
    "    def decorator(function):\n",
    "        @functools.wraps(function)\n",
    "        def wrapper(input):\n",
    "            return compute_taylor(input=input, function=function)\n",
    "        return wrapper\n",
    "    \n",
    "    # Handle the case where the decorator is used without parentheses\n",
    "    if callable(n_terms):\n",
    "        # Swapping ensures `n_terms` gets its default value\n",
    "        function, n_terms = n_terms, 50\n",
    "        return decorator(function)\n",
    "\n",
    "    return decorator"
   ]
  },
  {
   "cell_type": "code",
   "execution_count": 9,
   "metadata": {},
   "outputs": [],
   "source": [
    "A = torch.tensor([\n",
    "    [10, 1, 0],\n",
    "    [0, -10, 1],\n",
    "    [0, 0, 10]\n",
    "], dtype=torch.float64)\n",
    "\n",
    "x = torch.tensor(1., dtype=torch.float64)"
   ]
  },
  {
   "cell_type": "code",
   "execution_count": 10,
   "metadata": {},
   "outputs": [
    {
     "data": {
      "text/plain": [
       "tensor([[-0.5429, -0.0543, -0.0391],\n",
       "        [ 0.0000,  0.5429, -0.0543],\n",
       "        [ 0.0000,  0.0000, -0.5429]], dtype=torch.float64,\n",
       "       grad_fn=<SelectBackward0>)"
      ]
     },
     "execution_count": 10,
     "metadata": {},
     "output_type": "execute_result"
    }
   ],
   "source": [
    "taylor_extension(30)(torch.exp)(i*A).imag"
   ]
  },
  {
   "cell_type": "code",
   "execution_count": 11,
   "metadata": {},
   "outputs": [
    {
     "data": {
      "text/plain": [
       "tensor(1.5525e-11, dtype=torch.float64, grad_fn=<LinalgVectorNormBackward0>)"
      ]
     },
     "execution_count": 11,
     "metadata": {},
     "output_type": "execute_result"
    }
   ],
   "source": [
    "(torch.linalg.matrix_exp(A) - taylor_extension(120)(torch.exp)(A)).norm()"
   ]
  },
  {
   "cell_type": "code",
   "execution_count": 12,
   "metadata": {},
   "outputs": [
    {
     "data": {
      "text/plain": [
       "tensor([[2.4892e-08]], dtype=torch.float64, grad_fn=<SubBackward0>)"
      ]
     },
     "execution_count": 12,
     "metadata": {},
     "output_type": "execute_result"
    }
   ],
   "source": [
    "@taylor_extension(n_terms=10)\n",
    "def g(x):\n",
    "    return torch.sin(x)\n",
    "\n",
    "g(x) - torch.sin(x)"
   ]
  },
  {
   "cell_type": "code",
   "execution_count": 13,
   "metadata": {},
   "outputs": [
    {
     "data": {
      "text/plain": [
       "tensor([[1.]], dtype=torch.float64, grad_fn=<AddBackward0>)"
      ]
     },
     "execution_count": 13,
     "metadata": {},
     "output_type": "execute_result"
    }
   ],
   "source": [
    "@taylor_extension(5)\n",
    "def h(x):\n",
    "    return torch.sin(x)**2 + torch.cos(x)**2\n",
    "\n",
    "h(x)"
   ]
  },
  {
   "cell_type": "code",
   "execution_count": 36,
   "metadata": {},
   "outputs": [
    {
     "data": {
      "image/png": "[encoded data removed]",
      "text/plain": [
       "<Figure size 640x480 with 1 Axes>"
      ]
     },
     "metadata": {},
     "output_type": "display_data"
    }
   ],
   "source": [
    "from scipy.linalg import sinm\n",
    "import numpy as np\n",
    "\n",
    "B = torch.rand((50, 50), dtype=torch.float64)\n",
    "\n",
    "loss = [np.linalg.norm((sinm(B) - taylor_extension(n)(torch.sin)(B).data.numpy())) / np.linalg.norm((sinm(B))) for n in range(1, 100)]\n",
    "plt.plot(loss)\n",
    "plt.yscale('log')\n",
    "\n",
    "# loss = [np.linalg.norm((sinm(B) - taylor_extension(n)(torch.exp)(i*B).imag.data.numpy())) / np.linalg.norm((sinm(B))) for n in range(1, 100)]\n",
    "# plt.plot(loss)"
   ]
  },
  {
   "cell_type": "code",
   "execution_count": 12,
   "metadata": {},
   "outputs": [
    {
     "data": {
      "text/plain": [
       "tensor(8.5984e-05, dtype=torch.float64, grad_fn=<LinalgVectorNormBackward0>)"
      ]
     },
     "execution_count": 12,
     "metadata": {},
     "output_type": "execute_result"
    }
   ],
   "source": [
    "B = torch.rand((50, 50), dtype=torch.float64)\n",
    "\n",
    "(torch.linalg.matrix_exp(B) - taylor_extension(200)(torch.exp)(B)).norm()"
   ]
  }
 ],
 "metadata": {
  "kernelspec": {
   "display_name": "modelling",
   "language": "python",
   "name": "python3"
  },
  "language_info": {
   "codemirror_mode": {
    "name": "ipython",
    "version": 3
   },
   "file_extension": ".py",
   "mimetype": "text/x-python",
   "name": "python",
   "nbconvert_exporter": "python",
   "pygments_lexer": "ipython3",
   "version": "3.12.3"
  }
 },
 "nbformat": 4,
 "nbformat_minor": 2
}
